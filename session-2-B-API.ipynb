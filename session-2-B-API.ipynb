{
 "cells": [
  {
   "cell_type": "markdown",
   "metadata": {},
   "source": [
    "# Data Science Tutorial\n",
    "Data science is a set of tools and techniques to deal with a massive of data. The goal of data science is dual: \n",
    "1. predict a phenomenom based on what we already know\n",
    "2. understand a phenomenom structure \n",
    "\n",
    "During this tutorial we will try to automatically fill a dirty excel file given by a fellow researcher, our contractor. The data in the initial document are in an excel file. \n",
    "\n",
    "## 1 opening an excel file with pandas\n",
    "Pandas is a data science toolbox for data science that allow to manipulate __dataframe__. A dataframe is like an excel on steroid, that can be manipulated with python language to add, clean, update, remove datum. \n",
    "\n",
    "We will use pandas to open an excel and load it into a dataframe. We start by importing the library itself so that we can use its functions. "
   ]
  },
  {
   "cell_type": "code",
   "execution_count": 2,
   "metadata": {},
   "outputs": [],
   "source": [
    "import pandas"
   ]
  },
  {
   "cell_type": "code",
   "execution_count": 6,
   "metadata": {},
   "outputs": [],
   "source": [
    "filepath = '/Users/fabien/Documents/workspace/github/2019-essca-autumn/ESSCA-2019-Autumn/Data-sheet-STUDENTS.xlsx'\n",
    "dataframe = pandas.read_excel(filepath,header=2, index_col=0)"
   ]
  },
  {
   "cell_type": "code",
   "execution_count": 30,
   "metadata": {},
   "outputs": [],
   "source": [
    "import requests\n",
    "\n",
    "iso_code3 = {}\n",
    "iso_code2 = {}"
   ]
  },
  {
   "cell_type": "code",
   "execution_count": 36,
   "metadata": {},
   "outputs": [
    {
     "name": "stdout",
     "output_type": "stream",
     "text": [
      "France (Not BRI)\n",
      "Germany (not BRI)\n",
      "Thailiand\n",
      "The United Arab Emirates\n",
      "United Kingdom (Not BRI)\n",
      "United States of America (Not BRI)\n"
     ]
    }
   ],
   "source": [
    "for index, name in dataframe['Country (according to CN Gov):'].items():\n",
    "    if name in iso_code3:\n",
    "        continue\n",
    "    \n",
    "    print(name)\n",
    "    cleaned = name.split(' (')[0]\n",
    "    if cleaned == 'Thailiand':\n",
    "        cleaned = 'Thailand'\n",
    "    elif cleaned =='The United Arab Emirates':\n",
    "        cleaned = 'United Arab Emirates'\n",
    "    url = 'https://restcountries.eu/rest/v2/name/' + cleaned\n",
    "    r = requests.get(url)\n",
    "    data = r.json()\n",
    "    if r.status_code == 200:\n",
    "        iso_code3[name] = data[0]['alpha3Code']\n",
    "        iso_code2[name] = data[0]['alpha2Code']\n",
    "    else:\n",
    "        print(r.json())"
   ]
  },
  {
   "cell_type": "code",
   "execution_count": 35,
   "metadata": {},
   "outputs": [
    {
     "data": {
      "text/plain": [
       "'United states'"
      ]
     },
     "execution_count": 35,
     "metadata": {},
     "output_type": "execute_result"
    }
   ],
   "source": [
    "name = 'United states (blabla)'\n",
    "name.split(' (')[0]"
   ]
  },
  {
   "cell_type": "code",
   "execution_count": 19,
   "metadata": {},
   "outputs": [
    {
     "name": "stdout",
     "output_type": "stream",
     "text": [
      "200\n"
     ]
    }
   ],
   "source": [
    "r = requests.get('https://restcountries.eu/rest/v2/name/Afghanistan')\n",
    "print(r.status_code)\n",
    "data = r.json()"
   ]
  },
  {
   "cell_type": "code",
   "execution_count": 37,
   "metadata": {},
   "outputs": [
    {
     "data": {
      "text/plain": [
       "{'Afghanistan': 'AF',\n",
       " 'Albania': 'AL',\n",
       " 'Armenia': 'AM',\n",
       " 'Azerbaijan': 'AZ',\n",
       " 'Bahrain': 'BH',\n",
       " 'Bangladesh': 'BD',\n",
       " 'Belarus': 'BY',\n",
       " 'Bhutan': 'BT',\n",
       " 'Bosnia and Herzegovina': 'BA',\n",
       " 'Brunei': 'BN',\n",
       " 'Bulgaria': 'BG',\n",
       " 'Cambodia': 'KH',\n",
       " 'China': 'CN',\n",
       " 'Croatia': 'HR',\n",
       " 'Czech Republic': 'CZ',\n",
       " 'East Timor': 'TL',\n",
       " 'Egypt': 'EG',\n",
       " 'Estonia': 'EE',\n",
       " 'Georgia': 'GE',\n",
       " 'Hungary': 'HU',\n",
       " 'India': 'IO',\n",
       " 'Indonesia': 'ID',\n",
       " 'Iran': 'IR',\n",
       " 'Iraq': 'IQ',\n",
       " 'Israel': 'IL',\n",
       " 'Jordan': 'JO',\n",
       " 'Kazakhstan': 'KZ',\n",
       " 'Kuwait': 'KW',\n",
       " 'Kyrgyzstan': 'KG',\n",
       " 'Laos': 'LA',\n",
       " 'Latvia': 'LV',\n",
       " 'Lebanon': 'LB',\n",
       " 'Lithuania': 'LT',\n",
       " 'Macedonia': 'MK',\n",
       " 'Malaysia': 'MY',\n",
       " 'Maldives': 'MV',\n",
       " 'Moldova': 'MD',\n",
       " 'Mongolia': 'MN',\n",
       " 'Montenegro': 'ME',\n",
       " 'Myanmar': 'MM',\n",
       " 'Nepal': 'NP',\n",
       " 'Oman': 'OM',\n",
       " 'Pakistan': 'PK',\n",
       " 'Philippines': 'PH',\n",
       " 'Poland': 'PL',\n",
       " 'Qatar': 'QA',\n",
       " 'Romania': 'RO',\n",
       " 'Russia': 'RU',\n",
       " 'Saudi Arabia': 'SA',\n",
       " 'Serbia': 'RS',\n",
       " 'Singapore': 'SG',\n",
       " 'Slovakia': 'SK',\n",
       " 'Slovenia': 'SI',\n",
       " 'Sri Lanka': 'LK',\n",
       " 'Syria': 'SY',\n",
       " 'Tajikistan': 'TJ',\n",
       " 'Turkey': 'TR',\n",
       " 'Turkmenistan': 'TM',\n",
       " 'Ukraine': 'UA',\n",
       " 'Uzbekistan': 'UZ',\n",
       " 'Vietnam': 'VN',\n",
       " 'Yemen': 'YE',\n",
       " 'France (Not BRI)': 'FR',\n",
       " 'Germany (not BRI)': 'DE',\n",
       " 'Thailiand': 'TH',\n",
       " 'The United Arab Emirates': 'AE',\n",
       " 'United Kingdom (Not BRI)': 'GB',\n",
       " 'United States of America (Not BRI)': 'US'}"
      ]
     },
     "execution_count": 37,
     "metadata": {},
     "output_type": "execute_result"
    }
   ],
   "source": [
    "iso_code2"
   ]
  }
 ],
 "metadata": {
  "kernelspec": {
   "display_name": "Python 3",
   "language": "python",
   "name": "python3"
  },
  "language_info": {
   "codemirror_mode": {
    "name": "ipython",
    "version": 3
   },
   "file_extension": ".py",
   "mimetype": "text/x-python",
   "name": "python",
   "nbconvert_exporter": "python",
   "pygments_lexer": "ipython3",
   "version": "3.7.4"
  }
 },
 "nbformat": 4,
 "nbformat_minor": 4
}
