{
 "cells": [
  {
   "cell_type": "markdown",
   "metadata": {},
   "source": []
  },
  {
   "cell_type": "code",
   "execution_count": 20,
   "metadata": {},
   "outputs": [],
   "source": [
    "import pickle\n",
    "import pandas as pd\n",
    "import json"
   ]
  },
  {
   "cell_type": "markdown",
   "metadata": {},
   "source": []
  },
  {
   "cell_type": "code",
   "execution_count": 21,
   "metadata": {},
   "outputs": [],
   "source": [
    "df = pd.read_pickle('savedDF.pickle')"
   ]
  },
  {
   "cell_type": "markdown",
   "metadata": {},
   "source": []
  },
  {
   "cell_type": "code",
   "execution_count": 22,
   "metadata": {},
   "outputs": [],
   "source": [
    "with open('data-query-20170525.effix','r', encoding='utf-8') as fp:\n",
    "    data = json.load(fp)"
   ]
  },
  {
   "cell_type": "markdown",
   "metadata": {},
   "source": []
  },
  {
   "cell_type": "code",
   "execution_count": 23,
   "metadata": {},
   "outputs": [
    {
     "name": "stdout",
     "output_type": "stream",
     "text": [
      "fdef6daa799e80dbce1b561577b21181\n"
     ]
    }
   ],
   "source": [
    "year = '65d2ea03425887a717c435081cfc5dbb'\n",
    "\n",
    "indicators = {\n",
    "    \"9b688b5fbb441714ba73f4379e7b135d\": \"BRI GDP\",\n",
    "    \"5c4591fe4746333f6e7b66b13ad980a2\": \"BRI GDP growth rate\",\n",
    "    \"6d602224213550f3ee07477f1654f326\": \"BRI GDP p.c.\",\n",
    "    \"07f451a8c9b2006fb937d1eb268ac60b\": \"BRI Y.o.Y. GDP growth rate p.c.\",\n",
    "    \"c1329b4c01d4c08a68b8a280fb5a90ec\": \"BRI Agriculture value added per sector \",\n",
    "    \"f00273fa66d45147b2dd4dadd6275d32\": \"BRI Industry value added per sector \",\n",
    "    \"41fedd97a26d4782e531b5b4c67622b7\": \"BRI Services value added per sector \"\n",
    "}\n",
    "\n",
    "def get_country_code(country_name):\n",
    "    for k,v in data['country_macro']['term']['area'].items():\n",
    "        code = k\n",
    "        if v['full'] == country_name or v['short'] == country_name:\n",
    "            return(code)\n",
    "    return None\n",
    "\n",
    "code = get_country_code('Vietnam')\n",
    "print(code)"
   ]
  },
  {
   "cell_type": "markdown",
   "metadata": {},
   "source": []
  },
  {
   "cell_type": "code",
   "execution_count": 15,
   "metadata": {},
   "outputs": [],
   "source": [
    "for code_indicator, name_indicator in indicators.items():\n",
    "    for index, name in df['Country (according to CN Gov):'].items():\n",
    "        country_code = get_country_code(name)\n",
    "        if country_code is not None:\n",
    "            try:\n",
    "                datum = float(data['country_macro']['data'][year][country_code][code_indicator])\n",
    "                df.at[index,name_indicator] = datum\n",
    "            except ValueError:\n",
    "                #print('value error with',name,name_indicator,data['country_macro']['data'][year][country_code][code_indicator])\n",
    "                pass\n",
    "            except KeyError:\n",
    "                print('key error with',name_indicator)\n",
    "                pass"
   ]
  },
  {
   "cell_type": "markdown",
   "metadata": {},
   "source": []
  },
  {
   "cell_type": "code",
   "execution_count": 17,
   "metadata": {},
   "outputs": [],
   "source": [
    "pd.to_pickle(df, path='savedDF-BRI.pickle')"
   ]
  }
 ],
 "metadata": {
  "kernelspec": {
   "display_name": "Python 3",
   "language": "python",
   "name": "python3"
  },
  "language_info": {
   "codemirror_mode": {
    "name": "ipython",
    "version": 3
   },
   "file_extension": ".py",
   "mimetype": "text/x-python",
   "name": "python",
   "nbconvert_exporter": "python",
   "pygments_lexer": "ipython3",
   "version": "3.7.4"
  }
 },
 "nbformat": 4,
 "nbformat_minor": 4
}
