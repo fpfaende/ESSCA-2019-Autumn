{
 "cells": [
  {
   "cell_type": "markdown",
   "metadata": {},
   "source": [
    "# Data Science Tutorial\n",
    "Data science is a set of tools and techniques to deal with a massive of data. The goal of data science is dual: \n",
    "1. predict a phenomenom based on what we already know\n",
    "2. understand a phenomenom structure \n",
    "\n",
    "During this tutorial we will try to automatically fill a dirty excel file given by a fellow researcher, our contractor. The data in the initial document are in an excel file. \n",
    "\n",
    "## 1 opening an excel file with pandas\n",
    "Pandas is a data science toolbox for data science that allow to manipulate __dataframe__. A dataframe is like an excel on steroid, that can be manipulated with python language to add, clean, update, remove datum. \n",
    "\n",
    "We will use pandas to open an excel and load it into a dataframe. We start by importing the library itself so that we can use its functions. "
   ]
  },
  {
   "cell_type": "code",
   "execution_count": 1,
   "metadata": {},
   "outputs": [],
   "source": [
    "import pandas"
   ]
  },
  {
   "cell_type": "code",
   "execution_count": 2,
   "metadata": {},
   "outputs": [],
   "source": [
    "filepath = '/Users/fabien/Documents/workspace/github/2019-essca-autumn/ESSCA-2019-Autumn/Data-sheet-STUDENTS.xlsx'\n",
    "dataframe = pandas.read_excel(filepath, header=2, index_col=0)"
   ]
  },
  {
   "cell_type": "code",
   "execution_count": 4,
   "metadata": {},
   "outputs": [
    {
     "data": {
      "text/plain": [
       "Country (according to CN Gov):                                              Afghanistan\n",
       "Date of research inquiry                                                            NaT\n",
       "HF Index of Economic Freedom (Scale: 1-100)                                         NaN\n",
       "Heritage Foundation Index of Economic Freedom (Global Ranking)                      NaN\n",
       "Bertelsmann Transformation index (BTI)                                              NaN\n",
       "Bertelsmann Transformation index (BTI) - Ranking                                    NaN\n",
       "IMF WB\\nCustoms and other import duties (% of tax revenue) 2016                     NaN\n",
       "WB IMF Non-performing loans to total gross loans ratio (%)                          NaN\n",
       "Moody's Socvereign Ratings List                                                     NaN\n",
       "S&P Sovereign Ratings List                                                          NaN\n",
       "Fitch Sovereign Ratings List                                                        NaN\n",
       "UIC Rail freight (mn ton x km travelled)                                            NaN\n",
       "ICAO air freight (mn ton x km travelled)                                            NaN\n",
       "WB Household final consumption expenditure, PPP bn USD                              NaN\n",
       "WB UNESCO R&D Expenditure % of GDP                                                  NaN\n",
       "WB UNESCO Researchers p. mn inhabitants                                             NaN\n",
       "TI Corruption Perception Index                                                      NaN\n",
       "TI Corruption Perception Index - Ranking                                            NaN\n",
       "BRI GDP                                                                             NaN\n",
       "BRI GDP p.c.                                                                        NaN\n",
       "BRI GDP growth rate                                                                 NaN\n",
       "BRI Y.o.Y. GDP growth rate p.c.                                                     NaN\n",
       "BRI Agriculture value added per sector                                              NaN\n",
       "BRI Industry value added per sector                                                 NaN\n",
       "BRI Services value added per sector                                                 NaN\n",
       "Cumulative value added (numbers should reflect 100%)                                  0\n",
       "Exp./Imp. volume USD                                                                NaN\n",
       "WITS Time to Import                                                                 NaN\n",
       "WITS Time to Export                                                                 NaN\n",
       "IMF Financial Soundness Indicators                                                  NaN\n",
       "WB Central Government Debt                                                          NaN\n",
       "BRI Internet penetration rate (%)                                                   NaN\n",
       "BRI Population density (/km2)                                                       NaN\n",
       "BRI Percentage of Urban Population in Total Population                              NaN\n",
       "WB Cost of Starting a Business                                                      NaN\n",
       "WB Ease of Doing Business Index (1 = most business-friendly regulations)            NaN\n",
       "WB Logistics Performance Index (LPI) (range: 1-5)                                   NaN\n",
       "IFDI Net Inflows (% of GDP)                                                         NaN\n",
       "ED National Electric Power Consumption TwH                                          NaN\n",
       "WHO Current Health Expenditure p.c., PPP USD                                        NaN\n",
       "WB Research Expenditure % of GDP                                                    NaN\n",
       "WIPO Trademark applications                                                         NaN\n",
       "WIPO Patent Applications                                                            NaN\n",
       "Name: 1, dtype: object"
      ]
     },
     "execution_count": 4,
     "metadata": {},
     "output_type": "execute_result"
    }
   ],
   "source": [
    "dataframe.iloc[0]"
   ]
  },
  {
   "cell_type": "markdown",
   "metadata": {},
   "source": [
    "## 2 get the countries isocode\n",
    "to get the countries isocode we need to add an extra layer of work. This follow an analysis of the problem where worldbank indicators are notably asking for a 3 letters isocode to perfom the API call. \n",
    "\n",
    "The endpoint for the iso code is __https://restcountries.eu/rest/v2/name/{name}__\n",
    "we will use the library request to ask for the isocode for each country in our dataset"
   ]
  },
  {
   "cell_type": "code",
   "execution_count": 6,
   "metadata": {},
   "outputs": [],
   "source": [
    "import requests"
   ]
  },
  {
   "cell_type": "code",
   "execution_count": null,
   "metadata": {},
   "outputs": [],
   "source": []
  }
 ],
 "metadata": {
  "kernelspec": {
   "display_name": "Python 3",
   "language": "python",
   "name": "python3"
  },
  "language_info": {
   "codemirror_mode": {
    "name": "ipython",
    "version": 3
   },
   "file_extension": ".py",
   "mimetype": "text/x-python",
   "name": "python",
   "nbconvert_exporter": "python",
   "pygments_lexer": "ipython3",
   "version": "3.7.4"
  }
 },
 "nbformat": 4,
 "nbformat_minor": 4
}
