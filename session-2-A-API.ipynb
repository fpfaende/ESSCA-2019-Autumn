{
 "cells": [
  {
   "cell_type": "markdown",
   "metadata": {},
   "source": [
    "# Data Science Tutorial\n",
    "Data science is a set of tools and techniques to deal with a massive of data. The goal of data science is dual: \n",
    "1. predict a phenomenom based on what we already know\n",
    "2. understand a phenomenom structure \n",
    "\n",
    "During this tutorial we will try to automatically fill a dirty excel file given by a fellow researcher, our contractor. The data in the initial document are in an excel file. \n",
    "\n",
    "## 1 opening an excel file with pandas\n",
    "Pandas is a data science toolbox for data science that allow to manipulate __dataframe__. A dataframe is like an excel on steroid, that can be manipulated with python language to add, clean, update, remove datum. \n",
    "\n",
    "We will use pandas to open an excel and load it into a dataframe. We start by importing the library itself so that we can use its functions. "
   ]
  },
  {
   "cell_type": "code",
   "execution_count": 1,
   "metadata": {},
   "outputs": [],
   "source": [
    "import pandas"
   ]
  },
  {
   "cell_type": "code",
   "execution_count": 2,
   "metadata": {},
   "outputs": [],
   "source": [
    "filepath = '/Users/fabien/Documents/workspace/github/2019-essca-autumn/ESSCA-2019-Autumn/Data-sheet-STUDENTS.xlsx'\n",
    "dataframe = pandas.read_excel(filepath, header=2, index_col=0)"
   ]
  },
  {
   "cell_type": "code",
   "execution_count": 8,
   "metadata": {
    "collapsed": true,
    "jupyter": {
     "outputs_hidden": true
    }
   },
   "outputs": [
    {
     "data": {
      "text/plain": [
       "1                            Afghanistan\n",
       "2                                Albania\n",
       "3                                Armenia\n",
       "4                             Azerbaijan\n",
       "5                                Bahrain\n",
       "                     ...                \n",
       "64    United States of America (Not BRI)\n",
       "65                               Ukraine\n",
       "66                            Uzbekistan\n",
       "67                               Vietnam\n",
       "68                                 Yemen\n",
       "Name: Country (according to CN Gov):, Length: 68, dtype: object"
      ]
     },
     "execution_count": 8,
     "metadata": {},
     "output_type": "execute_result"
    }
   ],
   "source": [
    "dataframe['Country (according to CN Gov):']"
   ]
  },
  {
   "cell_type": "markdown",
   "metadata": {
    "jupyter": {
     "source_hidden": true
    }
   },
   "source": [
    "## 2 get the countries isocode\n",
    "to get the countries isocode we need to add an extra layer of work. This follow an analysis of the problem where worldbank indicators are notably asking for a 3 letters isocode to perfom the API call. \n",
    "\n",
    "The endpoint for the iso code is __https://restcountries.eu/rest/v2/name/{name}__\n",
    "we will use the library request to ask for the isocode for each country in our dataset"
   ]
  },
  {
   "cell_type": "code",
   "execution_count": 6,
   "metadata": {},
   "outputs": [],
   "source": [
    "import requests"
   ]
  },
  {
   "cell_type": "code",
   "execution_count": 9,
   "metadata": {},
   "outputs": [
    {
     "name": "stdout",
     "output_type": "stream",
     "text": [
      "Afghanistan\n",
      "https://restcountries.eu/rest/v2/name/Afghanistan\n",
      "Albania\n",
      "https://restcountries.eu/rest/v2/name/Albania\n",
      "Armenia\n",
      "https://restcountries.eu/rest/v2/name/Armenia\n",
      "Azerbaijan\n",
      "https://restcountries.eu/rest/v2/name/Azerbaijan\n",
      "Bahrain\n",
      "https://restcountries.eu/rest/v2/name/Bahrain\n",
      "Bangladesh\n",
      "https://restcountries.eu/rest/v2/name/Bangladesh\n",
      "Belarus\n",
      "https://restcountries.eu/rest/v2/name/Belarus\n",
      "Bhutan\n",
      "https://restcountries.eu/rest/v2/name/Bhutan\n",
      "Bosnia and Herzegovina\n",
      "https://restcountries.eu/rest/v2/name/Bosnia and Herzegovina\n",
      "Brunei\n",
      "https://restcountries.eu/rest/v2/name/Brunei\n",
      "Bulgaria\n",
      "https://restcountries.eu/rest/v2/name/Bulgaria\n",
      "Cambodia\n",
      "https://restcountries.eu/rest/v2/name/Cambodia\n",
      "China\n",
      "https://restcountries.eu/rest/v2/name/China\n",
      "Croatia\n",
      "https://restcountries.eu/rest/v2/name/Croatia\n",
      "Czech Republic\n",
      "https://restcountries.eu/rest/v2/name/Czech Republic\n",
      "East Timor\n",
      "https://restcountries.eu/rest/v2/name/East Timor\n",
      "Egypt\n",
      "https://restcountries.eu/rest/v2/name/Egypt\n",
      "Estonia\n",
      "https://restcountries.eu/rest/v2/name/Estonia\n",
      "France (Not BRI)\n",
      "https://restcountries.eu/rest/v2/name/France (Not BRI)\n",
      "Georgia\n",
      "https://restcountries.eu/rest/v2/name/Georgia\n",
      "Germany (not BRI)\n",
      "https://restcountries.eu/rest/v2/name/Germany (not BRI)\n",
      "Hungary\n",
      "https://restcountries.eu/rest/v2/name/Hungary\n",
      "India\n",
      "https://restcountries.eu/rest/v2/name/India\n",
      "Indonesia\n",
      "https://restcountries.eu/rest/v2/name/Indonesia\n",
      "Iran\n",
      "https://restcountries.eu/rest/v2/name/Iran\n",
      "Iraq\n",
      "https://restcountries.eu/rest/v2/name/Iraq\n",
      "Israel\n",
      "https://restcountries.eu/rest/v2/name/Israel\n",
      "Jordan\n",
      "https://restcountries.eu/rest/v2/name/Jordan\n",
      "Kazakhstan\n",
      "https://restcountries.eu/rest/v2/name/Kazakhstan\n",
      "Kuwait\n",
      "https://restcountries.eu/rest/v2/name/Kuwait\n",
      "Kyrgyzstan\n",
      "https://restcountries.eu/rest/v2/name/Kyrgyzstan\n",
      "Laos\n",
      "https://restcountries.eu/rest/v2/name/Laos\n",
      "Latvia\n",
      "https://restcountries.eu/rest/v2/name/Latvia\n",
      "Lebanon\n",
      "https://restcountries.eu/rest/v2/name/Lebanon\n",
      "Lithuania\n",
      "https://restcountries.eu/rest/v2/name/Lithuania\n",
      "Macedonia\n",
      "https://restcountries.eu/rest/v2/name/Macedonia\n",
      "Malaysia\n",
      "https://restcountries.eu/rest/v2/name/Malaysia\n",
      "Maldives\n",
      "https://restcountries.eu/rest/v2/name/Maldives\n",
      "Moldova\n",
      "https://restcountries.eu/rest/v2/name/Moldova\n",
      "Mongolia\n",
      "https://restcountries.eu/rest/v2/name/Mongolia\n",
      "Montenegro\n",
      "https://restcountries.eu/rest/v2/name/Montenegro\n",
      "Myanmar\n",
      "https://restcountries.eu/rest/v2/name/Myanmar\n",
      "Nepal\n",
      "https://restcountries.eu/rest/v2/name/Nepal\n",
      "Oman\n",
      "https://restcountries.eu/rest/v2/name/Oman\n",
      "Pakistan\n",
      "https://restcountries.eu/rest/v2/name/Pakistan\n",
      "Philippines\n",
      "https://restcountries.eu/rest/v2/name/Philippines\n",
      "Poland\n",
      "https://restcountries.eu/rest/v2/name/Poland\n",
      "Qatar\n",
      "https://restcountries.eu/rest/v2/name/Qatar\n",
      "Romania\n",
      "https://restcountries.eu/rest/v2/name/Romania\n",
      "Russia\n",
      "https://restcountries.eu/rest/v2/name/Russia\n",
      "Saudi Arabia\n",
      "https://restcountries.eu/rest/v2/name/Saudi Arabia\n",
      "Serbia\n",
      "https://restcountries.eu/rest/v2/name/Serbia\n",
      "Singapore\n",
      "https://restcountries.eu/rest/v2/name/Singapore\n",
      "Slovakia\n",
      "https://restcountries.eu/rest/v2/name/Slovakia\n",
      "Slovenia\n",
      "https://restcountries.eu/rest/v2/name/Slovenia\n",
      "Sri Lanka\n",
      "https://restcountries.eu/rest/v2/name/Sri Lanka\n",
      "Syria\n",
      "https://restcountries.eu/rest/v2/name/Syria\n",
      "Tajikistan\n",
      "https://restcountries.eu/rest/v2/name/Tajikistan\n",
      "Thailiand\n",
      "https://restcountries.eu/rest/v2/name/Thailiand\n",
      "The United Arab Emirates\n",
      "https://restcountries.eu/rest/v2/name/The United Arab Emirates\n",
      "Turkey\n",
      "https://restcountries.eu/rest/v2/name/Turkey\n",
      "Turkmenistan\n",
      "https://restcountries.eu/rest/v2/name/Turkmenistan\n",
      "United Kingdom (Not BRI)\n",
      "https://restcountries.eu/rest/v2/name/United Kingdom (Not BRI)\n",
      "United States of America (Not BRI)\n",
      "https://restcountries.eu/rest/v2/name/United States of America (Not BRI)\n",
      "Ukraine\n",
      "https://restcountries.eu/rest/v2/name/Ukraine\n",
      "Uzbekistan\n",
      "https://restcountries.eu/rest/v2/name/Uzbekistan\n",
      "Vietnam\n",
      "https://restcountries.eu/rest/v2/name/Vietnam\n",
      "Yemen\n",
      "https://restcountries.eu/rest/v2/name/Yemen\n"
     ]
    }
   ],
   "source": [
    "for i, name in dataframe['Country (according to CN Gov):'].items():\n",
    "    print(name)\n",
    "    url = 'https://restcountries.eu/rest/v2/name/'+name\n",
    "    print(url)"
   ]
  }
 ],
 "metadata": {
  "kernelspec": {
   "display_name": "Python 3",
   "language": "python",
   "name": "python3"
  },
  "language_info": {
   "codemirror_mode": {
    "name": "ipython",
    "version": 3
   },
   "file_extension": ".py",
   "mimetype": "text/x-python",
   "name": "python",
   "nbconvert_exporter": "python",
   "pygments_lexer": "ipython3",
   "version": "3.7.4"
  }
 },
 "nbformat": 4,
 "nbformat_minor": 4
}
